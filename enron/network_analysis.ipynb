{
 "cells": [
  {
   "cell_type": "code",
   "execution_count": null,
   "metadata": {},
   "outputs": [],
   "source": [
    "import networkx as nx\n",
    "import os\n",
    "import re\n",
    "import datetime"
   ]
  },
  {
   "cell_type": "code",
   "execution_count": null,
   "metadata": {},
   "outputs": [],
   "source": [
    "# build a dict of metadata entries by email with a path to the full email\n",
    "# !!! WARNING This WILL NOT work without the enron dataset extracted to the path below. WARNING !!!\n",
    "base_path = os.getcwd() + '/maildir'\n",
    "\n",
    "messages = {}\n",
    "errors = {'failures': [], 'not_emails': []}\n",
    "\n",
    "def navigate_directories(path):\n",
    "    # list the current directory\n",
    "    contents = os.listdir(path)\n",
    "    # for each item in the directory\n",
    "    for entry in contents:\n",
    "        entry_path = path + '/' + entry\n",
    "        # if it's a directory, run this function again\n",
    "        if os.path.isdir(entry_path):\n",
    "            navigate_directories(entry_path)\n",
    "        # if it's a file, extract the metadata\n",
    "        else:\n",
    "            build_dict(entry_path)\n",
    "\n",
    "def build_dict(path):\n",
    "    # open the file\n",
    "    with open(path, 'r') as doc:\n",
    "        try:\n",
    "            contents = doc.read()\n",
    "        \n",
    "            # capture the messageid\n",
    "            m = re.compile(r'^Message-ID: <(.*?)>.*')\n",
    "            re_msg_id = m.match(contents)\n",
    "            msg_id = re_msg_id.group(1)\n",
    "            \n",
    "            # if the messageid hasn't been parsed yet:\n",
    "            if not msg_id in messages.keys():\n",
    "                # add an entry with the messageid as the key, and a dict as the value with 'path': path as an entry\n",
    "                messages[msg_id] = {'path': path}\n",
    "        except UnicodeDecodeError:\n",
    "            errors['failures'].append(path)\n",
    "        except AttributeError:\n",
    "            errors['not_emails'].append(path)\n",
    "\n"
   ]
  },
  {
   "cell_type": "code",
   "execution_count": null,
   "metadata": {
    "tags": []
   },
   "outputs": [],
   "source": [
    "navigate_directories(base_path)"
   ]
  },
  {
   "cell_type": "code",
   "execution_count": null,
   "metadata": {
    "tags": []
   },
   "outputs": [],
   "source": [
    "#for each email, add the date, the sender, and the recipients to the messages dict. \n",
    "for message in messages:\n",
    "    with open(messages[message]['path'], 'r') as doc:\n",
    "        email = doc.read()\n",
    "        address = r\"[\\w!#\\$%&'\\*\\+-/=\\?\\^_`\\{\\}\\|~\\.]+@[\\w!#\\$%&'\\*\\+-/=\\?\\^_`\\{\\}\\|~\\.]+\\.[\\w!#\\$%&'\\*\\+-/=\\?\\^_`\\{\\}\\|~\\.]+\"\n",
    "        from_line = r\"From: .*?(\" + address + r\")\"\n",
    "        to_line = r\"To: ((\" + address + \"[\\s,]+)+)\"\n",
    "        date_line = r\"Date: ([a-zA-Z]+, \\d+ [a-zA-Z]+ \\d+ \\d+:\\d+:\\d+ [-\\+]?\\d+)\"\n",
    "        #regex search From:\n",
    "        re_from = re.search(from_line, email)\n",
    "        try:\n",
    "            messages[message]['from'] = re_from.group(1)\n",
    "        except:\n",
    "            print(f\"No from email. Message path: {messages[message]['path']}\")\n",
    "        #regex search To: repeating group\n",
    "        re_to = re.search(to_line, email)\n",
    "        if re_to:\n",
    "            messages[message]['to'] = re.split(r\"[\\s,]+\", re_to.group(1))[:-1]\n",
    "        else:\n",
    "            messages[message]['to'] = []\n",
    "        #regex search date, convert to datetime\n",
    "        re_date = re.search(date_line, email)\n",
    "        try:\n",
    "            msg_time = datetime.datetime.strptime(re_date.group(1), '%a, %d %b %Y %H:%M:%S %z')\n",
    "            messages[message]['time'] = msg_time\n",
    "        except:\n",
    "            print(f\"Could not parse date for {messages[message]['path']}\")"
   ]
  },
  {
   "cell_type": "code",
   "execution_count": null,
   "metadata": {},
   "outputs": [],
   "source": [
    "import pprint\n",
    "\n",
    "print(len(messages))\n",
    "pprint.pprint(errors)"
   ]
  }
 ],
 "metadata": {
  "kernelspec": {
   "display_name": "Python 3",
   "language": "python",
   "name": "python3"
  },
  "language_info": {
   "codemirror_mode": {
    "name": "ipython",
    "version": 3
   },
   "file_extension": ".py",
   "mimetype": "text/x-python",
   "name": "python",
   "nbconvert_exporter": "python",
   "pygments_lexer": "ipython3",
   "version": "3.8.3-final"
  }
 },
 "nbformat": 4,
 "nbformat_minor": 4
}
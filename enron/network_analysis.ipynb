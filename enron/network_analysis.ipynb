{
 "cells": [
  {
   "cell_type": "code",
   "execution_count": 1,
   "metadata": {},
   "outputs": [],
   "source": [
    "import networkx as nx\n",
    "import os\n",
    "import re\n",
    "import datetime"
   ]
  },
  {
   "cell_type": "code",
   "execution_count": 2,
   "metadata": {},
   "outputs": [],
   "source": [
    "# build a dict of metadata entries by email with a path to the full email\n",
    "# !!! WARNING This WILL NOT work without the enron dataset extracted to the path below. WARNING !!!\n",
    "base_path = '/home/cyfir/mst688/applications/enron/maildir'\n",
    "\n",
    "messages = {}\n",
    "errors = {'failures': [], 'not_emails': []}\n",
    "\n",
    "def navigate_directories(path):\n",
    "    # list the current directory\n",
    "    contents = os.listdir(path)\n",
    "    # for each item in the directory\n",
    "    for entry in contents:\n",
    "        entry_path = path + '/' + entry\n",
    "        # if it's a directory, run this function again\n",
    "        if os.path.isdir(entry_path):\n",
    "            navigate_directories(entry_path)\n",
    "        # if it's a file, extract the metadata\n",
    "        else:\n",
    "            build_dict(entry_path)\n",
    "\n",
    "def build_dict(path):\n",
    "    # open the file\n",
    "    with open(path, 'r') as doc:\n",
    "        try:\n",
    "            contents = doc.read()\n",
    "        \n",
    "            # capture the messageid\n",
    "            m = re.compile(r'^Message-ID: <(.*?)>.*')\n",
    "            re_msg_id = m.match(contents)\n",
    "            msg_id = re_msg_id.group(1)\n",
    "            \n",
    "            # if the messageid hasn't been parsed yet:\n",
    "            if not msg_id in messages.keys():\n",
    "                # add an entry with the messageid as the key, and a dict as the value with 'path': path as an entry\n",
    "                messages[msg_id] = {'path': path}\n",
    "        except UnicodeDecodeError:\n",
    "            errors['failures'].append(path)\n",
    "        except AttributeError:\n",
    "            errors['not_emails'].append(path)\n",
    "\n"
   ]
  },
  {
   "cell_type": "code",
   "execution_count": 3,
   "metadata": {
    "tags": []
   },
   "outputs": [],
   "source": [
    "navigate_directories(base_path)"
   ]
  },
  {
   "cell_type": "code",
   "execution_count": 4,
   "metadata": {
    "tags": []
   },
   "outputs": [
    {
     "output_type": "stream",
     "name": "stdout",
     "text": [
      "No from email. Message path: /home/cyfir/mst688/enron/maildir/skilling-j/inbox/223.txt\n"
     ]
    }
   ],
   "source": [
    "#for each email, add the date, the sender, and the recipients to the messages dict. \n",
    "for message in messages:\n",
    "    with open(messages[message]['path'], 'r') as doc:\n",
    "        email = doc.read()\n",
    "        address = r\"[\\w!#\\$%&'\\*\\+-/=\\?\\^_`\\{\\}\\|~\\.]+@[\\w!#\\$%&'\\*\\+-/=\\?\\^_`\\{\\}\\|~\\.]+\\.[\\w!#\\$%&'\\*\\+-/=\\?\\^_`\\{\\}\\|~\\.]+\"\n",
    "        from_line = r\"From: .*?(\" + address + r\")\"\n",
    "        to_line = r\"To: ((\" + address + \"[\\s,]+)+)\"\n",
    "        date_line = r\"Date: ([a-zA-Z]+, \\d+ [a-zA-Z]+ \\d+ \\d+:\\d+:\\d+ [-\\+]?\\d+)\"\n",
    "        #regex search From:\n",
    "        re_from = re.search(from_line, email)\n",
    "        try:\n",
    "            messages[message]['from'] = re_from.group(1)\n",
    "        except:\n",
    "            print(f\"No from email. Message path: {messages[message]['path']}\")\n",
    "        #regex search To: repeating group\n",
    "        re_to = re.search(to_line, email)\n",
    "        if re_to:\n",
    "            messages[message]['to'] = re.split(r\"[\\s,]+\", re_to.group(1))[:-1]\n",
    "        else:\n",
    "            messages[message]['to'] = []\n",
    "        #regex search date, convert to datetime\n",
    "        re_date = re.search(date_line, email)\n",
    "        try:\n",
    "            msg_time = datetime.datetime.strptime(re_date.group(1), '%a, %d %b %Y %H:%M:%S %z')\n",
    "            messages[message]['time'] = msg_time\n",
    "        except:\n",
    "            print(f\"Could not parse date for {messages[message]['path']}\")"
   ]
  },
  {
   "cell_type": "code",
   "execution_count": 5,
   "metadata": {},
   "outputs": [
    {
     "output_type": "stream",
     "name": "stdout",
     "text": [
      "517311\n{'failures': ['/home/cyfir/mst688/enron/maildir/beck-s/deleted_items/48.txt',\n              '/home/cyfir/mst688/enron/maildir/beck-s/deleted_items/91.txt',\n              '/home/cyfir/mst688/enron/maildir/beck-s/deleted_items/38.txt',\n              '/home/cyfir/mst688/enron/maildir/beck-s/deleted_items/299.txt',\n              '/home/cyfir/mst688/enron/maildir/beck-s/deleted_items/264.txt',\n              '/home/cyfir/mst688/enron/maildir/beck-s/deleted_items/85.txt',\n              '/home/cyfir/mst688/enron/maildir/beck-s/deleted_items/13.txt',\n              '/home/cyfir/mst688/enron/maildir/beck-s/deleted_items/353.txt',\n              '/home/cyfir/mst688/enron/maildir/beck-s/deleted_items/36.txt',\n              '/home/cyfir/mst688/enron/maildir/beck-s/inbox/704.txt',\n              '/home/cyfir/mst688/enron/maildir/beck-s/inbox/100.txt',\n              '/home/cyfir/mst688/enron/maildir/beck-s/inbox/504.txt',\n              '/home/cyfir/mst688/enron/maildir/beck-s/inbox/763.txt',\n              '/home/cyfir/mst688/enron/maildir/beck-s/inbox/708.txt',\n              '/home/cyfir/mst688/enron/maildir/shapiro-r/deleted_items/221.txt',\n              '/home/cyfir/mst688/enron/maildir/gay-r/all_documents/82.txt',\n              '/home/cyfir/mst688/enron/maildir/gay-r/all_documents/59.txt',\n              '/home/cyfir/mst688/enron/maildir/gay-r/sent/82.txt',\n              '/home/cyfir/mst688/enron/maildir/gay-r/sent/59.txt',\n              '/home/cyfir/mst688/enron/maildir/shackleton-s/all_documents/1560.txt',\n              '/home/cyfir/mst688/enron/maildir/shackleton-s/all_documents/2856.txt',\n              '/home/cyfir/mst688/enron/maildir/shackleton-s/all_documents/2374.txt',\n              '/home/cyfir/mst688/enron/maildir/shackleton-s/notes_inbox/1491.txt',\n              '/home/cyfir/mst688/enron/maildir/shackleton-s/notes_inbox/1701.txt',\n              '/home/cyfir/mst688/enron/maildir/shackleton-s/stack__shari/3.txt',\n              '/home/cyfir/mst688/enron/maildir/staab-t/personal/17.txt',\n              '/home/cyfir/mst688/enron/maildir/dasovich-j/all_documents/29349.txt',\n              '/home/cyfir/mst688/enron/maildir/dasovich-j/notes_inbox/11527.txt',\n              '/home/cyfir/mst688/enron/maildir/lay-k/inbox/333.txt',\n              '/home/cyfir/mst688/enron/maildir/lay-k/inbox/15.txt',\n              '/home/cyfir/mst688/enron/maildir/lay-k/inbox/533.txt',\n              '/home/cyfir/mst688/enron/maildir/whalley-g/inbox/60.txt',\n              '/home/cyfir/mst688/enron/maildir/whalley-g/inbox/390.txt',\n              '/home/cyfir/mst688/enron/maildir/shankman-j/personal/12.txt',\n              '/home/cyfir/mst688/enron/maildir/shankman-j/deleted_items/510.txt',\n              '/home/cyfir/mst688/enron/maildir/shankman-j/saved_mail/1.txt',\n              '/home/cyfir/mst688/enron/maildir/kitchen-l/_americas/regulatory/113.',\n              '/home/cyfir/mst688/enron/maildir/quigley-d/myfriends/44.txt',\n              '/home/cyfir/mst688/enron/maildir/quigley-d/myfriends/142.txt',\n              '/home/cyfir/mst688/enron/maildir/buy-r/deleted_items/84.txt',\n              '/home/cyfir/mst688/enron/maildir/taylor-m/all_documents/2813.txt',\n              '/home/cyfir/mst688/enron/maildir/taylor-m/all_documents/3452.txt',\n              '/home/cyfir/mst688/enron/maildir/taylor-m/all_documents/7852.txt',\n              '/home/cyfir/mst688/enron/maildir/taylor-m/all_documents/3474.txt',\n              '/home/cyfir/mst688/enron/maildir/taylor-m/notes_inbox/1606.txt',\n              '/home/cyfir/mst688/enron/maildir/taylor-m/notes_inbox/2425.txt',\n              '/home/cyfir/mst688/enron/maildir/taylor-m/notes_inbox/1591.txt',\n              '/home/cyfir/mst688/enron/maildir/taylor-m/notes_inbox/1149.txt',\n              '/home/cyfir/mst688/enron/maildir/taylor-m/inbox/social/73.',\n              '/home/cyfir/mst688/enron/maildir/taylor-m/archive/8_00/32.',\n              '/home/cyfir/mst688/enron/maildir/hyatt-k/personal/cars/6.',\n              '/home/cyfir/mst688/enron/maildir/campbell-l/all_documents/1014.txt',\n              '/home/cyfir/mst688/enron/maildir/campbell-l/discussion_threads/889.txt',\n              '/home/cyfir/mst688/enron/maildir/campbell-l/notes_inbox/284.txt',\n              '/home/cyfir/mst688/enron/maildir/horton-s/all_documents/64.txt',\n              '/home/cyfir/mst688/enron/maildir/horton-s/all_documents/209.txt',\n              '/home/cyfir/mst688/enron/maildir/horton-s/discussion_threads/60.txt',\n              '/home/cyfir/mst688/enron/maildir/horton-s/discussion_threads/198.txt',\n              '/home/cyfir/mst688/enron/maildir/causholli-m/deleted_items/55.txt',\n              '/home/cyfir/mst688/enron/maildir/causholli-m/deleted_items/405.txt',\n              '/home/cyfir/mst688/enron/maildir/haedicke-m/all_documents/2313.txt',\n              '/home/cyfir/mst688/enron/maildir/haedicke-m/notes_inbox/344.txt',\n              '/home/cyfir/mst688/enron/maildir/haedicke-m/inbox/594.txt',\n              '/home/cyfir/mst688/enron/maildir/skilling-j/all_documents/385.txt',\n              '/home/cyfir/mst688/enron/maildir/skilling-j/deleted_items/346.txt',\n              '/home/cyfir/mst688/enron/maildir/skilling-j/discussion_threads/306.txt',\n              '/home/cyfir/mst688/enron/maildir/skilling-j/notes_inbox/100.txt',\n              '/home/cyfir/mst688/enron/maildir/griffith-j/all_documents/565.txt',\n              '/home/cyfir/mst688/enron/maildir/griffith-j/deleted_items/1175.txt',\n              '/home/cyfir/mst688/enron/maildir/griffith-j/discussion_threads/535.txt',\n              '/home/cyfir/mst688/enron/maildir/griffith-j/inbox/66.txt',\n              '/home/cyfir/mst688/enron/maildir/griffith-j/design/27.txt',\n              '/home/cyfir/mst688/enron/maildir/kean-s/california___working_group/163.txt',\n              '/home/cyfir/mst688/enron/maildir/ybarbo-p/deleted_items/90.txt',\n              '/home/cyfir/mst688/enron/maildir/ybarbo-p/deleted_items/91.txt',\n              '/home/cyfir/mst688/enron/maildir/ybarbo-p/deleted_items/83.txt',\n              '/home/cyfir/mst688/enron/maildir/ybarbo-p/inbox/163.txt',\n              '/home/cyfir/mst688/enron/maildir/ybarbo-p/inbox/276.txt',\n              '/home/cyfir/mst688/enron/maildir/ybarbo-p/inbox/232.txt',\n              '/home/cyfir/mst688/enron/maildir/ybarbo-p/inbox/271.txt',\n              '/home/cyfir/mst688/enron/maildir/ring-a/inbox/9.txt',\n              '/home/cyfir/mst688/enron/maildir/sanders-r/all_documents/7328.txt',\n              '/home/cyfir/mst688/enron/maildir/sanders-r/all_documents/7342.txt',\n              '/home/cyfir/mst688/enron/maildir/sanders-r/all_documents/7334.txt',\n              '/home/cyfir/mst688/enron/maildir/sanders-r/deleted_items/bastos/4.',\n              '/home/cyfir/mst688/enron/maildir/sanders-r/notes_inbox/315.txt',\n              '/home/cyfir/mst688/enron/maildir/sanders-r/notes_inbox/312.txt',\n              '/home/cyfir/mst688/enron/maildir/sanders-r/notes_inbox/313.txt',\n              '/home/cyfir/mst688/enron/maildir/sanders-r/bastos/4.txt',\n              '/home/cyfir/mst688/enron/maildir/kaminski-v/sent_items/2524.txt'],\n 'not_emails': ['/home/cyfir/mst688/enron/maildir/filename.sh']}\n"
     ]
    }
   ],
   "source": [
    "import pprint\n",
    "\n",
    "print(len(messages))\n",
    "pprint.pprint(errors)"
   ]
  },
  {
   "cell_type": "code",
   "execution_count": null,
   "metadata": {},
   "outputs": [],
   "source": []
  }
 ],
 "metadata": {
  "kernelspec": {
   "display_name": "Python 3",
   "language": "python",
   "name": "python3"
  },
  "language_info": {
   "codemirror_mode": {
    "name": "ipython",
    "version": 3
   },
   "file_extension": ".py",
   "mimetype": "text/x-python",
   "name": "python",
   "nbconvert_exporter": "python",
   "pygments_lexer": "ipython3",
   "version": "3.8.3-final"
  }
 },
 "nbformat": 4,
 "nbformat_minor": 4
}